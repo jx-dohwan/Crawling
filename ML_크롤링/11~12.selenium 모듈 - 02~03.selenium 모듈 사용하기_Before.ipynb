{
 "cells": [
  {
   "cell_type": "markdown",
   "metadata": {},
   "source": [
    "### 학습목표\n",
    " 1. selenium 모듈 사용법 알아보기"
   ]
  },
  {
   "cell_type": "code",
   "execution_count": 15,
   "metadata": {},
   "outputs": [],
   "source": [
    "from selenium import webdriver\n",
    "from selenium.webdriver.common.keys import Keys\n",
    "from selenium.webdriver.support.ui import WebDriverWait\n",
    "from selenium.webdriver.support import expected_conditions as EC\n",
    "from selenium.webdriver.common.by import By\n",
    "import requests\n",
    "\n",
    "from bs4 import BeautifulSoup\n",
    "import time"
   ]
  },
  {
   "cell_type": "markdown",
   "metadata": {},
   "source": [
    "#### selenium\n",
    " - 웹페이지 테스트 자동화용 모듈\n",
    " - 개발/테스트용 드라이버(웹브라우저)를 사용하여 실제 사용자가 사용하는 것처럼 동작\n",
    " - 실습전 확인사항\n",
    "   - selenium 모듈 설치\n",
    "   - [크롬 드라이버 다운로드](https://chromedriver.chromium.org/downloads)"
   ]
  },
  {
   "cell_type": "markdown",
   "metadata": {},
   "source": [
    "#### selenium 예제\n",
    " - python.org 로 이동하여 자동으로 검색해보기\n",
    "   1. python.org 사이트 오픈\n",
    "   2. input 필드를 검색하여 Key 이벤트 전달\n",
    " \n"
   ]
  },
  {
   "cell_type": "code",
   "execution_count": 6,
   "metadata": {},
   "outputs": [
    {
     "name": "stderr",
     "output_type": "stream",
     "text": [
      "C:\\Users\\jx778\\AppData\\Local\\Temp/ipykernel_12756/815551971.py:2: DeprecationWarning: executable_path has been deprecated, please pass in a Service object\n",
      "  driver = webdriver.Chrome(chrome_driver)\n",
      "C:\\Users\\jx778\\AppData\\Local\\Temp/ipykernel_12756/815551971.py:4: DeprecationWarning: find_element_by_* commands are deprecated. Please use find_element() instead\n",
      "  search = driver.find_element_by_id('id-search-field')\n"
     ]
    }
   ],
   "source": [
    "chrome_driver = '../chromedriver.exe'\n",
    "driver = webdriver.Chrome(chrome_driver)\n",
    "driver.get('https://python.org')\n",
    "search = driver.find_element_by_id('id-search-field')\n",
    "\n",
    "search.clear() # 이거는 뭐하는건고??\n",
    "time.sleep(3)\n",
    "\n",
    "search.send_keys('lambda')\n",
    "\n",
    "time.sleep(3)\n",
    "search.send_keys(Keys.RETURN) # 검색 엔터\n",
    "\n",
    "time.sleep(3)\n",
    "\n",
    "driver.close()"
   ]
  },
  {
   "cell_type": "markdown",
   "metadata": {},
   "source": [
    "#### selenium을 이용한 다음뉴스 웹사이트 크롤링\n",
    " - driver 객체의 find_xxx_by 함수 활용"
   ]
  },
  {
   "cell_type": "code",
   "execution_count": 9,
   "metadata": {},
   "outputs": [
    {
     "name": "stderr",
     "output_type": "stream",
     "text": [
      "C:\\Users\\jx778\\AppData\\Local\\Temp/ipykernel_12756/3659764556.py:2: DeprecationWarning: executable_path has been deprecated, please pass in a Service object\n",
      "  driver = webdriver.Chrome(chrome_driver)\n"
     ]
    },
    {
     "data": {
      "text/plain": [
       "'42'"
      ]
     },
     "execution_count": 9,
     "metadata": {},
     "output_type": "execute_result"
    }
   ],
   "source": [
    "chrome_driver = '../chromedriver.exe'\n",
    "driver = webdriver.Chrome(chrome_driver)\n",
    "\n",
    "url = 'https://news.v.daum.net/v/20190728165812603'\n",
    "\n",
    "driver.get(url)\n",
    "src = driver.page_source\n",
    "soup = BeautifulSoup(src)\n",
    "driver.close()\n",
    "comment = soup.select_one('span.alex-count-area')\n",
    "comment.get_text()"
   ]
  },
  {
   "cell_type": "markdown",
   "metadata": {},
   "source": [
    "#### selenium을 활용하여 특정 element의 로딩 대기\n",
    " - WebDriverWait 객체를 이용하여 해당 element가 로딩 되는 것을 대기\n",
    " - 실제로 해당 기능을 활용하여 거의 모든 사이트의 크롤링이 가능\n",
    " - WebDriverWait(driver, 시간(초)).until(EC.presence_of_element_located((By.CSS_SELECTOR, 'CSS_RULE')))\n",
    " "
   ]
  },
  {
   "cell_type": "code",
   "execution_count": 18,
   "metadata": {},
   "outputs": [
    {
     "name": "stderr",
     "output_type": "stream",
     "text": [
      "C:\\Users\\jx778\\AppData\\Local\\Temp/ipykernel_12756/3485212370.py:2: DeprecationWarning: executable_path has been deprecated, please pass in a Service object\n",
      "  driver = webdriver.Chrome(chrome_driver)\n"
     ]
    },
    {
     "name": "stdout",
     "output_type": "stream",
     "text": [
      "<span class=\"u_cbox_count\">21</span>\n"
     ]
    }
   ],
   "source": [
    "chrome_driver = '../chromedriver'\n",
    "driver = webdriver.Chrome(chrome_driver)\n",
    "\n",
    "url = 'https://news.naver.com/main/read.nhn?mode=LSD&mid=shm&sid1=105&oid=081&aid=0003018031'\n",
    "# chrome driver 로 해당 페이지가 물리적으로 open\n",
    "driver.get(url)\n",
    "\n",
    "# 해당 element가 로딩 될때까지 대기\n",
    "myElem = WebDriverWait(driver, 10).until(EC.presence_of_element_located((By.CSS_SELECTOR, '.u_cbox_count')))\n",
    "\n",
    "src = driver.page_source\n",
    "\n",
    "soup = BeautifulSoup(src)\n",
    "comment_area = soup.select_one('.u_cbox_count')\n",
    "\n",
    "# chrome driver 사용 후, close 함수로 종료\n",
    "driver.close()\n",
    "\n",
    "\n",
    "print(comment_area)\n"
   ]
  },
  {
   "cell_type": "code",
   "execution_count": null,
   "metadata": {},
   "outputs": [],
   "source": []
  }
 ],
 "metadata": {
  "kernelspec": {
   "display_name": "Python 3",
   "language": "python",
   "name": "python3"
  },
  "language_info": {
   "codemirror_mode": {
    "name": "ipython",
    "version": 3
   },
   "file_extension": ".py",
   "mimetype": "text/x-python",
   "name": "python",
   "nbconvert_exporter": "python",
   "pygments_lexer": "ipython3",
   "version": "3.9.7"
  }
 },
 "nbformat": 4,
 "nbformat_minor": 2
}
